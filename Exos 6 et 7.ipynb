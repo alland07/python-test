{
 "cells": [
  {
   "cell_type": "markdown",
   "metadata": {},
   "source": [
    "# Exercice 6"
   ]
  },
  {
   "cell_type": "code",
   "execution_count": 245,
   "metadata": {},
   "outputs": [],
   "source": [
    "class NbFunctionCalls:\n",
    "    \n",
    "    def __init__(self, myfunction, counter=0):\n",
    "        self.myfunction = myfunction\n",
    "        self.counter = counter\n",
    "    \n",
    "    def __call__(self,*args):\n",
    "        self.counter +=1\n",
    "        print(\"{},{}\".format(self.myfunction.__call__(*args), self.counter))\n",
    "    \n",
    "    \n",
    "@NbFunctionCalls\n",
    "def somme(*args):\n",
    "    result = 0\n",
    "    for arg in args:\n",
    "        result += arg\n",
    "    return result\n",
    "\n",
    "@NbFunctionCalls\n",
    "def multiply(*args):\n",
    "    result = 1\n",
    "    for arg in args:\n",
    "        result *= arg\n",
    "    return result"
   ]
  },
  {
   "cell_type": "code",
   "execution_count": 246,
   "metadata": {},
   "outputs": [],
   "source": [
    "x = NbFunctionCalls(0,2)"
   ]
  },
  {
   "cell_type": "code",
   "execution_count": 247,
   "metadata": {},
   "outputs": [
    {
     "data": {
      "text/plain": [
       "(0, 2)"
      ]
     },
     "execution_count": 247,
     "metadata": {},
     "output_type": "execute_result"
    }
   ],
   "source": [
    "x.myfunction, x.counter"
   ]
  },
  {
   "cell_type": "code",
   "execution_count": 248,
   "metadata": {},
   "outputs": [
    {
     "name": "stdout",
     "output_type": "stream",
     "text": [
      "6,1\n"
     ]
    }
   ],
   "source": [
    "somme(2,3,6,-5)"
   ]
  },
  {
   "cell_type": "code",
   "execution_count": 249,
   "metadata": {},
   "outputs": [
    {
     "name": "stdout",
     "output_type": "stream",
     "text": [
      "6,2\n"
     ]
    }
   ],
   "source": [
    "somme(2,3,6,-5)\n"
   ]
  },
  {
   "cell_type": "code",
   "execution_count": 250,
   "metadata": {},
   "outputs": [
    {
     "name": "stdout",
     "output_type": "stream",
     "text": [
      "6,1\n"
     ]
    }
   ],
   "source": [
    "multiply(2,3)"
   ]
  },
  {
   "cell_type": "markdown",
   "metadata": {},
   "source": [
    "@NbFunctionCalls est équivalent à : "
   ]
  },
  {
   "cell_type": "code",
   "execution_count": 251,
   "metadata": {},
   "outputs": [],
   "source": [
    "def decorator(func):\n",
    "    def wrapper():\n",
    "        counter +=1\n",
    "        result = func()\n",
    "        result += counter\n",
    "        return result\n",
    "    return wrapper"
   ]
  },
  {
   "cell_type": "markdown",
   "metadata": {},
   "source": [
    "Somme est du type NbFunctionCalls"
   ]
  },
  {
   "cell_type": "markdown",
   "metadata": {},
   "source": [
    "On a accès au counter dans somme, il s'incrémente à chaque utilisation de somme"
   ]
  },
  {
   "cell_type": "markdown",
   "metadata": {},
   "source": [
    "On a fait pareil dans le mutliply, et on remarque que le counter est indépendant de celui de somme"
   ]
  },
  {
   "cell_type": "markdown",
   "metadata": {},
   "source": [
    "@NbFunctionCalls permet d'apporter les fonctionnalités de la class NbFunctionCalls aux fonctions dans lesquelles cette notation est utilisée"
   ]
  },
  {
   "cell_type": "code",
   "execution_count": 293,
   "metadata": {},
   "outputs": [],
   "source": [
    "class NbOfAllFunctionCalls:\n",
    "    counter = 0\n",
    "    \n",
    "    def __init__(self, myfunction):\n",
    "        self.myfunction = myfunction\n",
    "    \n",
    "    def __call__(self,*args):\n",
    "        self.__class__.counter +=1\n",
    "        print(self.myfunction(*args))\n",
    "        \n",
    "@NbOfAllFunctionCalls\n",
    "def multiply(*args):\n",
    "    result = 1\n",
    "    for arg in args:\n",
    "        result *= arg\n",
    "    return result\n",
    "\n",
    "@NbOfAllFunctionCalls\n",
    "def divide(x,y):\n",
    "    result = x/y\n",
    "    return result"
   ]
  },
  {
   "cell_type": "code",
   "execution_count": 294,
   "metadata": {},
   "outputs": [
    {
     "name": "stdout",
     "output_type": "stream",
     "text": [
      "1\n"
     ]
    }
   ],
   "source": [
    "multiply()"
   ]
  },
  {
   "cell_type": "code",
   "execution_count": 297,
   "metadata": {},
   "outputs": [
    {
     "name": "stdout",
     "output_type": "stream",
     "text": [
      "0.5\n"
     ]
    }
   ],
   "source": [
    "divide(1,2)"
   ]
  },
  {
   "cell_type": "markdown",
   "metadata": {},
   "source": [
    "Les counters s'incrémentent au fur et à mesure à la suite, il est commun aux deux"
   ]
  },
  {
   "cell_type": "code",
   "execution_count": 311,
   "metadata": {},
   "outputs": [],
   "source": [
    "class decorator:\n",
    "    \n",
    "    historique = {}\n",
    "    \n",
    "    def __init__(self,func):\n",
    "        self.func = func\n",
    "    \n",
    "    def __call__(self,*args):\n",
    "        self.__class__.historique[self.func.__name__,args]= self.func(*args) \n",
    "        print(self.__class__.historique)"
   ]
  },
  {
   "cell_type": "code",
   "execution_count": 312,
   "metadata": {},
   "outputs": [],
   "source": [
    "@decorator\n",
    "def somme(*args):\n",
    "    result = 0\n",
    "    for arg in args:\n",
    "        result += arg\n",
    "    return result\n",
    "\n",
    "@decorator\n",
    "def multiply(*args):\n",
    "    result = 1\n",
    "    for arg in args:\n",
    "        result *= arg\n",
    "    return result\n",
    "\n",
    "@decorator\n",
    "def divide(x,y):\n",
    "    result = x/y\n",
    "    return result"
   ]
  },
  {
   "cell_type": "code",
   "execution_count": 313,
   "metadata": {},
   "outputs": [
    {
     "name": "stdout",
     "output_type": "stream",
     "text": [
      "{('somme', (2, 3)): 5}\n"
     ]
    }
   ],
   "source": [
    "somme(2,3)"
   ]
  },
  {
   "cell_type": "code",
   "execution_count": 314,
   "metadata": {},
   "outputs": [
    {
     "name": "stdout",
     "output_type": "stream",
     "text": [
      "{('somme', (2, 3)): 5, ('multiply', (2, 3)): 6}\n"
     ]
    }
   ],
   "source": [
    "multiply(2,3)"
   ]
  },
  {
   "cell_type": "markdown",
   "metadata": {},
   "source": [
    "# Exercice 7"
   ]
  },
  {
   "cell_type": "markdown",
   "metadata": {},
   "source": [
    "1"
   ]
  },
  {
   "cell_type": "code",
   "execution_count": null,
   "metadata": {},
   "outputs": [],
   "source": [
    "class List:\n",
    "    liste = []\n",
    "    def __init__(self,liste1,liste2):\n",
    "        self.liste1 = liste1\n",
    "        self.liste2 = liste2\n",
    "    \n",
    "    def __call__(self,l1,l2):\n",
    "        for element in l1:\n",
    "            for el in l2:\n",
    "                \n",
    "#class decorator:\n",
    "    \n",
    "#   historique = {}\n",
    "    \n",
    "#    def __init__(self,func):\n",
    " #       self.func = func\n",
    "    \n",
    " #   def __call__(self,*args):\n",
    "  #      self.__class__.historique[self.func.__name__,args]= self.func(*args) \n",
    "  #      print(self.__class__.historique)                "
   ]
  }
 ],
 "metadata": {
  "kernelspec": {
   "display_name": "Python 3",
   "language": "python",
   "name": "python3"
  },
  "language_info": {
   "codemirror_mode": {
    "name": "ipython",
    "version": 3
   },
   "file_extension": ".py",
   "mimetype": "text/x-python",
   "name": "python",
   "nbconvert_exporter": "python",
   "pygments_lexer": "ipython3",
   "version": "3.8.3"
  }
 },
 "nbformat": 4,
 "nbformat_minor": 4
}
