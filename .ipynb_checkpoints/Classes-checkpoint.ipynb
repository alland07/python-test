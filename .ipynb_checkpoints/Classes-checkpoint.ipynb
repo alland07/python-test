{
 "cells": [
  {
   "cell_type": "code",
   "execution_count": 56,
   "metadata": {},
   "outputs": [],
   "source": [
    "class People:\n",
    "    nb_bras = 2\n",
    "    nb_jambes = 2\n",
    "    def __init__(self, age, profession):\n",
    "        self.age = age\n",
    "        self.profession = profession\n",
    "        \n",
    "    def birthday(self):\n",
    "        self.age +=1\n",
    "        \"\"\"c'est son anniv, ajoute 1 an\"\"\"\n",
    "    \n",
    "    def accident(self):\n",
    "        self.nb_bras -= 1\n",
    "        \n",
    "    def __str__(self):\n",
    "        output = \"Une personne qui est {}, et d'âge: {}\".format(self.profession, self.age)"
   ]
  },
  {
   "cell_type": "code",
   "execution_count": 57,
   "metadata": {},
   "outputs": [],
   "source": [
    "people1 = People(21, \"etudiant\")"
   ]
  },
  {
   "cell_type": "code",
   "execution_count": 58,
   "metadata": {},
   "outputs": [],
   "source": [
    "people2 = People(50, \"ingénieur\")"
   ]
  },
  {
   "cell_type": "code",
   "execution_count": 59,
   "metadata": {},
   "outputs": [
    {
     "data": {
      "text/plain": [
       "True"
      ]
     },
     "execution_count": 59,
     "metadata": {},
     "output_type": "execute_result"
    }
   ],
   "source": [
    "type(people1) == type(people2)"
   ]
  },
  {
   "cell_type": "code",
   "execution_count": 60,
   "metadata": {},
   "outputs": [
    {
     "data": {
      "text/plain": [
       "21"
      ]
     },
     "execution_count": 60,
     "metadata": {},
     "output_type": "execute_result"
    }
   ],
   "source": [
    "people1.age"
   ]
  },
  {
   "cell_type": "code",
   "execution_count": 61,
   "metadata": {},
   "outputs": [
    {
     "data": {
      "text/plain": [
       "22"
      ]
     },
     "execution_count": 61,
     "metadata": {},
     "output_type": "execute_result"
    }
   ],
   "source": [
    "people1.birthday()\n",
    "people1.age"
   ]
  },
  {
   "cell_type": "code",
   "execution_count": 62,
   "metadata": {},
   "outputs": [
    {
     "data": {
      "text/plain": [
       "23"
      ]
     },
     "execution_count": 62,
     "metadata": {},
     "output_type": "execute_result"
    }
   ],
   "source": [
    "people1.birthday()\n",
    "people1.age"
   ]
  },
  {
   "cell_type": "code",
   "execution_count": 63,
   "metadata": {},
   "outputs": [
    {
     "data": {
      "text/plain": [
       "2"
      ]
     },
     "execution_count": 63,
     "metadata": {},
     "output_type": "execute_result"
    }
   ],
   "source": [
    "people1.nb_bras"
   ]
  },
  {
   "cell_type": "code",
   "execution_count": 64,
   "metadata": {},
   "outputs": [],
   "source": [
    "people1.accident()"
   ]
  },
  {
   "cell_type": "code",
   "execution_count": 65,
   "metadata": {},
   "outputs": [
    {
     "data": {
      "text/plain": [
       "1"
      ]
     },
     "execution_count": 65,
     "metadata": {},
     "output_type": "execute_result"
    }
   ],
   "source": [
    "people1.nb_bras"
   ]
  },
  {
   "cell_type": "code",
   "execution_count": 39,
   "metadata": {},
   "outputs": [],
   "source": [
    "class People2:\n",
    "    bras = 2 #variable de classe/attribut\n",
    "    jambes = 2\n",
    "    \n",
    "    def __init__(self,age,profession):\n",
    "        #Attribut d'instance\n",
    "        self.age= age\n",
    "        self.profession = profession  \n",
    "        \n",
    "    def __str__ (self):\n",
    "        return \"profession {}, age {}\".format(self.profession,self.age)\n",
    "    \n",
    "    def __add__(self,x):\n",
    "        if isinstance(x) is People2:\n",
    "            return self.age + x.age\n",
    "        raise Exception(\"X n'est pas du type People\")\n",
    "        \n",
    "    \n",
    "    def birthday(self):\n",
    "        \"\"\"Ajoute 1 an à la personne\"\"\"\n",
    "        self.age += 1\n",
    "        \n",
    "    def accident(self):\n",
    "        \"\"\"Cette personne a eu un accident, on lui retire un bras\"\"\"\n",
    "        self.bras -=1\n",
    "    \n",
    "    def accident_pour_tous(self):\n",
    "        \"\"\"modifie une variable de class\"\"\"\n",
    "        self.__class__.bras -=1\n",
    "        \n",
    "    \n",
    "    @classmethod\n",
    "    def apocalypse(cls):\n",
    "        \"\"\"methode de class\"\"\"\n",
    "        cls.bras -=1\n",
    "        \n",
    "    @staticmethod\n",
    "    def function(x):\n",
    "        return x**2"
   ]
  },
  {
   "cell_type": "code",
   "execution_count": 40,
   "metadata": {},
   "outputs": [],
   "source": [
    "people3 = People2(age = 25, profession = \"boulanger\")\n",
    "people4 = People2(age = 18, profession = \"artiste\")"
   ]
  },
  {
   "cell_type": "code",
   "execution_count": 41,
   "metadata": {},
   "outputs": [
    {
     "data": {
      "text/plain": [
       "43"
      ]
     },
     "execution_count": 41,
     "metadata": {},
     "output_type": "execute_result"
    }
   ],
   "source": [
    "people3 + people4"
   ]
  },
  {
   "cell_type": "code",
   "execution_count": 37,
   "metadata": {},
   "outputs": [],
   "source": [
    "class Student(People2):\n",
    "    def __init__(self,etudes,age, profession):\n",
    "        super().__init__(age, profession)\n",
    "        self.etudes = etudes\n",
    "        self.age = age"
   ]
  },
  {
   "cell_type": "code",
   "execution_count": 38,
   "metadata": {},
   "outputs": [
    {
     "data": {
      "text/plain": [
       "21"
      ]
     },
     "execution_count": 38,
     "metadata": {},
     "output_type": "execute_result"
    }
   ],
   "source": [
    "eleve1 = Student(3,21,\"Serveur\")\n",
    "eleve1.age"
   ]
  },
  {
   "cell_type": "code",
   "execution_count": null,
   "metadata": {},
   "outputs": [],
   "source": []
  }
 ],
 "metadata": {
  "kernelspec": {
   "display_name": "Python 3",
   "language": "python",
   "name": "python3"
  },
  "language_info": {
   "codemirror_mode": {
    "name": "ipython",
    "version": 3
   },
   "file_extension": ".py",
   "mimetype": "text/x-python",
   "name": "python",
   "nbconvert_exporter": "python",
   "pygments_lexer": "ipython3",
   "version": "3.8.3"
  }
 },
 "nbformat": 4,
 "nbformat_minor": 4
}
