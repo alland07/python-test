{
 "cells": [
  {
   "cell_type": "markdown",
   "metadata": {},
   "source": [
    "**Exercice1**"
   ]
  },
  {
   "cell_type": "code",
   "execution_count": 1,
   "metadata": {},
   "outputs": [],
   "source": [
    "liste = [[1,2],[3,4],[5,6],[7,8]]\n"
   ]
  },
  {
   "cell_type": "markdown",
   "metadata": {},
   "source": [
    "Compréhension Dist"
   ]
  },
  {
   "cell_type": "code",
   "execution_count": 5,
   "metadata": {},
   "outputs": [
    {
     "data": {
      "text/plain": [
       "{1: 2, 3: 4, 5: 6, 7: 8}"
      ]
     },
     "execution_count": 5,
     "metadata": {},
     "output_type": "execute_result"
    }
   ],
   "source": [
    "{val1[0]: val1[1] for val1 in liste}"
   ]
  },
  {
   "cell_type": "markdown",
   "metadata": {},
   "source": [
    "Constructeur"
   ]
  },
  {
   "cell_type": "code",
   "execution_count": 44,
   "metadata": {},
   "outputs": [
    {
     "data": {
      "text/plain": [
       "{1: 2, 3: 4, 5: 6, 7: 8}"
      ]
     },
     "execution_count": 44,
     "metadata": {},
     "output_type": "execute_result"
    }
   ],
   "source": [
    "rendu = dict(liste)\n",
    "rendu"
   ]
  },
  {
   "cell_type": "markdown",
   "metadata": {},
   "source": [
    "**Exercice 2**"
   ]
  },
  {
   "cell_type": "markdown",
   "metadata": {},
   "source": [
    "Partie 1"
   ]
  },
  {
   "cell_type": "code",
   "execution_count": 2,
   "metadata": {},
   "outputs": [],
   "source": [
    "text = \"\"\"Lorem ipsum dolor sit amet, consectetur adipiscing elit. Vestibulum sagittis neque turpis, in gravida erat tincidunt a. Maecenas lobortis rutrum arcu, in posuere dolor fermentum sed. Duis imperdiet laoreet nibh, a pretium lectus condimentum eget. Maecenas eu elit vitae nibh euismod lacinia et a tortor. Donec at egestas leo, eget molestie quam. Sed elementum scelerisque sapien, quis suscipit ex malesuada vel. Aenean non mollis erat, in tincidunt massa.\n",
    "\n",
    "Mauris semper, purus in dictum imperdiet, libero nunc bibendum ex, eget facilisis turpis lorem ac lorem. Sed bibendum scelerisque tortor vel dictum. Aliquam dignissim eget erat non mollis. Maecenas vehicula feugiat tortor, in vulputate ex molestie nec. Ut suscipit iaculis nulla, auctor elementum urna dapibus non. Fusce facilisis mollis tellus sit amet venenatis. Praesent metus enim, tincidunt posuere tellus et, placerat tincidunt justo.\n",
    "\n",
    "Nunc id gravida ipsum, id porttitor magna. Maecenas porttitor accumsan odio non mattis. Suspendisse ultrices eleifend tristique. Vivamus accumsan libero tortor, eu aliquam sapien iaculis sed. In congue quis mi sed condimentum. Ut est libero, condimentum sit amet sagittis eu, tincidunt sed risus. Suspendisse pharetra molestie rutrum. Cras bibendum, dui ac consectetur eleifend, leo leo laoreet nibh, eget tristique lorem enim a nisi.\n",
    "\n",
    "Duis a purus eu augue consectetur malesuada id nec ex. Pellentesque sed odio laoreet, imperdiet dui ut, sodales odio. Class aptent taciti sociosqu ad litora torquent per conubia nostra, per inceptos himenaeos. Donec interdum, tortor eu dapibus pharetra, libero nisi faucibus nisl, id malesuada felis diam id urna. Praesent est metus, gravida eu luctus vitae, egestas vel metus. Class aptent taciti sociosqu ad litora torquent per conubia nostra, per inceptos himenaeos. Cras suscipit malesuada dui, vitae faucibus libero mollis a. In posuere blandit augue, sed semper ante imperdiet sed. Cras egestas posuere augue at semper. Praesent fermentum nunc risus, vitae aliquet augue consectetur a. Fusce interdum orci nunc, non posuere ex venenatis id. Nam faucibus fringilla mollis. Nulla ac enim accumsan, accumsan risus sit amet, rutrum tellus. Praesent lacinia augue at pulvinar venenatis. Etiam nunc augue, suscipit a faucibus sed, sodales ut mauris.\n",
    "\n",
    "Quisque quis magna malesuada, ultricies leo eget, elementum est. Praesent enim purus, pretium a nisl quis, accumsan blandit sapien. Class aptent taciti sociosqu ad litora torquent per conubia nostra, per inceptos himenaeos. Mauris ultricies iaculis nunc, quis fringilla arcu bibendum ac. Integer eu sem eget dui tempor sagittis. Ut sit amet ipsum quis nisi porttitor pulvinar. Etiam suscipit, leo nec fringilla luctus, lacus est egestas augue, eget vestibulum augue diam non eros. Duis posuere ac magna eget ullamcorper.\n",
    "\"\"\""
   ]
  },
  {
   "cell_type": "markdown",
   "metadata": {},
   "source": [
    "Premier Point"
   ]
  },
  {
   "cell_type": "code",
   "execution_count": 4,
   "metadata": {},
   "outputs": [],
   "source": [
    "nombre_cara = {}\n",
    "for lettre in text:\n",
    "    if lettre in nombre_cara:\n",
    "        nombre_cara[lettre] +=1\n",
    "    else: \n",
    "        nombre_cara[lettre] = 1;"
   ]
  },
  {
   "cell_type": "markdown",
   "metadata": {},
   "source": [
    "Second Point avec defaultdict"
   ]
  },
  {
   "cell_type": "code",
   "execution_count": 5,
   "metadata": {},
   "outputs": [],
   "source": [
    "from collections import defaultdict"
   ]
  },
  {
   "cell_type": "code",
   "execution_count": null,
   "metadata": {},
   "outputs": [],
   "source": [
    "from collections import Counter"
   ]
  },
  {
   "cell_type": "code",
   "execution_count": 8,
   "metadata": {},
   "outputs": [],
   "source": [
    "dico = defaultdict(int)\n",
    "for char in text:\n",
    "    dico[char] +=1\n",
    "#dico"
   ]
  },
  {
   "cell_type": "markdown",
   "metadata": {},
   "source": [
    "Troisieme Point avec Counter"
   ]
  },
  {
   "cell_type": "code",
   "execution_count": 10,
   "metadata": {},
   "outputs": [],
   "source": [
    "dico = Counter(text)\n",
    "#dico"
   ]
  },
  {
   "cell_type": "markdown",
   "metadata": {},
   "source": [
    "Partie 2"
   ]
  },
  {
   "cell_type": "code",
   "execution_count": 12,
   "metadata": {},
   "outputs": [
    {
     "data": {
      "text/plain": [
       "Counter({'Lorem': 1,\n",
       "         'ipsum': 2,\n",
       "         'dolor': 2,\n",
       "         'sit': 5,\n",
       "         'amet,': 2,\n",
       "         'consectetur': 4,\n",
       "         'adipiscing': 1,\n",
       "         'elit.': 1,\n",
       "         'Vestibulum': 1,\n",
       "         'sagittis': 2,\n",
       "         'neque': 1,\n",
       "         'turpis,': 1,\n",
       "         'in': 5,\n",
       "         'gravida': 3,\n",
       "         'erat': 2,\n",
       "         'tincidunt': 5,\n",
       "         'a.': 3,\n",
       "         'Maecenas': 4,\n",
       "         'lobortis': 1,\n",
       "         'rutrum': 2,\n",
       "         'arcu,': 1,\n",
       "         'posuere': 6,\n",
       "         'fermentum': 2,\n",
       "         'sed.': 3,\n",
       "         'Duis': 3,\n",
       "         'imperdiet': 3,\n",
       "         'laoreet': 2,\n",
       "         'nibh,': 2,\n",
       "         'a': 6,\n",
       "         'pretium': 2,\n",
       "         'lectus': 1,\n",
       "         'condimentum': 2,\n",
       "         'eget.': 1,\n",
       "         'eu': 6,\n",
       "         'elit': 1,\n",
       "         'vitae': 3,\n",
       "         'nibh': 1,\n",
       "         'euismod': 1,\n",
       "         'lacinia': 2,\n",
       "         'et': 1,\n",
       "         'tortor.': 1,\n",
       "         'Donec': 2,\n",
       "         'at': 3,\n",
       "         'egestas': 4,\n",
       "         'leo,': 1,\n",
       "         'eget': 7,\n",
       "         'molestie': 3,\n",
       "         'quam.': 1,\n",
       "         'Sed': 2,\n",
       "         'elementum': 3,\n",
       "         'scelerisque': 2,\n",
       "         'sapien,': 1,\n",
       "         'quis': 5,\n",
       "         'suscipit': 4,\n",
       "         'ex': 3,\n",
       "         'malesuada': 4,\n",
       "         'vel.': 1,\n",
       "         'Aenean': 1,\n",
       "         'non': 5,\n",
       "         'mollis': 3,\n",
       "         'erat,': 1,\n",
       "         'massa.': 1,\n",
       "         'Mauris': 2,\n",
       "         'semper,': 1,\n",
       "         'purus': 2,\n",
       "         'dictum': 1,\n",
       "         'imperdiet,': 1,\n",
       "         'libero': 4,\n",
       "         'nunc': 3,\n",
       "         'bibendum': 3,\n",
       "         'ex,': 1,\n",
       "         'facilisis': 2,\n",
       "         'turpis': 1,\n",
       "         'lorem': 2,\n",
       "         'ac': 4,\n",
       "         'lorem.': 1,\n",
       "         'tortor': 2,\n",
       "         'vel': 2,\n",
       "         'dictum.': 1,\n",
       "         'Aliquam': 1,\n",
       "         'dignissim': 1,\n",
       "         'mollis.': 2,\n",
       "         'vehicula': 1,\n",
       "         'feugiat': 1,\n",
       "         'tortor,': 2,\n",
       "         'vulputate': 1,\n",
       "         'nec.': 1,\n",
       "         'Ut': 3,\n",
       "         'iaculis': 3,\n",
       "         'nulla,': 1,\n",
       "         'auctor': 1,\n",
       "         'urna': 1,\n",
       "         'dapibus': 2,\n",
       "         'non.': 1,\n",
       "         'Fusce': 2,\n",
       "         'tellus': 2,\n",
       "         'amet': 3,\n",
       "         'venenatis.': 2,\n",
       "         'Praesent': 5,\n",
       "         'metus': 1,\n",
       "         'enim,': 1,\n",
       "         'et,': 1,\n",
       "         'placerat': 1,\n",
       "         'justo.': 1,\n",
       "         'Nunc': 1,\n",
       "         'id': 5,\n",
       "         'ipsum,': 1,\n",
       "         'porttitor': 3,\n",
       "         'magna.': 1,\n",
       "         'accumsan': 4,\n",
       "         'odio': 2,\n",
       "         'mattis.': 1,\n",
       "         'Suspendisse': 2,\n",
       "         'ultrices': 1,\n",
       "         'eleifend': 1,\n",
       "         'tristique.': 1,\n",
       "         'Vivamus': 1,\n",
       "         'aliquam': 1,\n",
       "         'sapien': 1,\n",
       "         'In': 2,\n",
       "         'congue': 1,\n",
       "         'mi': 1,\n",
       "         'sed': 4,\n",
       "         'condimentum.': 1,\n",
       "         'est': 3,\n",
       "         'libero,': 1,\n",
       "         'eu,': 1,\n",
       "         'risus.': 1,\n",
       "         'pharetra': 1,\n",
       "         'rutrum.': 1,\n",
       "         'Cras': 3,\n",
       "         'bibendum,': 1,\n",
       "         'dui': 3,\n",
       "         'eleifend,': 1,\n",
       "         'leo': 4,\n",
       "         'tristique': 1,\n",
       "         'enim': 3,\n",
       "         'nisi.': 1,\n",
       "         'augue': 5,\n",
       "         'nec': 2,\n",
       "         'ex.': 1,\n",
       "         'Pellentesque': 1,\n",
       "         'laoreet,': 1,\n",
       "         'ut,': 1,\n",
       "         'sodales': 2,\n",
       "         'odio.': 1,\n",
       "         'Class': 3,\n",
       "         'aptent': 3,\n",
       "         'taciti': 3,\n",
       "         'sociosqu': 3,\n",
       "         'ad': 3,\n",
       "         'litora': 3,\n",
       "         'torquent': 3,\n",
       "         'per': 6,\n",
       "         'conubia': 3,\n",
       "         'nostra,': 3,\n",
       "         'inceptos': 3,\n",
       "         'himenaeos.': 3,\n",
       "         'interdum,': 1,\n",
       "         'pharetra,': 1,\n",
       "         'nisi': 2,\n",
       "         'faucibus': 4,\n",
       "         'nisl,': 1,\n",
       "         'felis': 1,\n",
       "         'diam': 2,\n",
       "         'urna.': 1,\n",
       "         'metus,': 1,\n",
       "         'luctus': 1,\n",
       "         'vitae,': 1,\n",
       "         'metus.': 1,\n",
       "         'dui,': 1,\n",
       "         'blandit': 2,\n",
       "         'augue,': 3,\n",
       "         'semper': 1,\n",
       "         'ante': 1,\n",
       "         'semper.': 1,\n",
       "         'risus,': 1,\n",
       "         'aliquet': 1,\n",
       "         'interdum': 1,\n",
       "         'orci': 1,\n",
       "         'nunc,': 2,\n",
       "         'venenatis': 1,\n",
       "         'id.': 1,\n",
       "         'Nam': 1,\n",
       "         'fringilla': 3,\n",
       "         'Nulla': 1,\n",
       "         'accumsan,': 1,\n",
       "         'risus': 1,\n",
       "         'tellus.': 1,\n",
       "         'pulvinar': 1,\n",
       "         'Etiam': 2,\n",
       "         'sed,': 1,\n",
       "         'ut': 1,\n",
       "         'mauris.': 1,\n",
       "         'Quisque': 1,\n",
       "         'magna': 2,\n",
       "         'malesuada,': 1,\n",
       "         'ultricies': 2,\n",
       "         'eget,': 1,\n",
       "         'est.': 1,\n",
       "         'purus,': 1,\n",
       "         'nisl': 1,\n",
       "         'quis,': 1,\n",
       "         'sapien.': 1,\n",
       "         'arcu': 1,\n",
       "         'ac.': 1,\n",
       "         'Integer': 1,\n",
       "         'sem': 1,\n",
       "         'tempor': 1,\n",
       "         'sagittis.': 1,\n",
       "         'pulvinar.': 1,\n",
       "         'suscipit,': 1,\n",
       "         'luctus,': 1,\n",
       "         'lacus': 1,\n",
       "         'vestibulum': 1,\n",
       "         'eros.': 1,\n",
       "         'ullamcorper.': 1})"
      ]
     },
     "execution_count": 12,
     "metadata": {},
     "output_type": "execute_result"
    }
   ],
   "source": [
    "dico = Counter(text.split())\n",
    "dico"
   ]
  },
  {
   "cell_type": "markdown",
   "metadata": {},
   "source": [
    "**Exercice 3**"
   ]
  },
  {
   "cell_type": "code",
   "execution_count": 13,
   "metadata": {},
   "outputs": [],
   "source": [
    "amino_acids_from_triplets = {\n",
    " \"Ala\":   (\"GCT\", \"GCC\", \"GCA\", \"GCG\"),\n",
    " \"Arg\":    (\"CGT\", \"CGC\", \"CGA\", \"CGG\", \"AGA\", \"AGG\"),\n",
    " \"Asn\":    (\"AAT\", \"AAC\"),\n",
    " \"Asp\":    (\"GAT\", \"GAC\"),\n",
    " \"Cys\":    (\"TGT\", \"TGC\"),\n",
    " \"Gln\":    (\"CAA\", \"CAG\"),\n",
    " \"Glu\":    (\"GAA\", \"GAG\"),\n",
    " \"Gly\":    (\"GGT\", \"GGC\", \"GGA\", \"GGG\"),\n",
    " \"His\":    (\"CAT\", \"CAC\"),\n",
    " \"Ile\":    (\"ATT\", \"ATC\", \"ATA\"),\n",
    " \"Leu\":    (\"CTT\", \"CTC\", \"CTA\", \"CTG\", \"TTA\", \"TTG\"),\n",
    " \"Lys\":    (\"AAA\", \"AAG\"),\n",
    " \"Met\":    (\"ATG\"),\n",
    " \"Phe\":    (\"TTT\", \"TTC\"),\n",
    " \"Pro\":    (\"CCT\", \"CCC\", \"CCA\", \"CCG\"),\n",
    " \"Ser\":    (\"TCT\", \"TCC\", \"TCA\", \"TCG\", \"AGT\", \"AGC\"),\n",
    " \"Thr\":    (\"ACT\", \"ACC\", \"ACA\", \"ACG\"),\n",
    " \"Trp\":    (\"TGG\"),\n",
    " \"Tyr\":    (\"TAT\", \"TAC\"),\n",
    " \"Val\":    (\"GTT\", \"GTC\", \"GTA\", \"GTG\"),\n",
    " \"STOP\":   (\"TAA\", \"TGA\", \"TAG\") \n",
    "}"
   ]
  },
  {
   "cell_type": "code",
   "execution_count": 14,
   "metadata": {},
   "outputs": [],
   "source": [
    "all_triplets_to_amino_acids = {v:k for k,v in amino_acids_from_triplets.items()}"
   ]
  },
  {
   "cell_type": "code",
   "execution_count": 16,
   "metadata": {},
   "outputs": [],
   "source": [
    "triplets_to_amino_acids = {}\n",
    "for key, value in all_triplets_to_amino_acids.items():\n",
    "    if type(key) is tuple:\n",
    "        for k in key:\n",
    "            triplets_to_amino_acids[k] = value\n",
    "    else:\n",
    "        triplets_to_amino_acids[key] = value\n",
    "#triplets_to_amino_acids"
   ]
  },
  {
   "cell_type": "code",
   "execution_count": 18,
   "metadata": {},
   "outputs": [],
   "source": [
    "triplets_to_amino_acids = {k if type(key) is tuple else key:val \n",
    " for key, val in all_triplets_to_amino_acids.items() \n",
    " for k in key}"
   ]
  },
  {
   "cell_type": "code",
   "execution_count": 19,
   "metadata": {},
   "outputs": [],
   "source": [
    "arn = 'GCCGAGTAACTAGCCAGCTATGACACGATCCCGGCTAGGAAAGTGAACCCGCGGAAGTATATTGGTACCTCACGGTAGGAGACGGCGGGATAATTCTTGTCGCTGTGTGTGCCATCGTACACGAGACGGGTCCACTGAGTAAAGCGAGTATCACACAGACGAAGGTGACCTCCCCTTGTAGTCAGTAATCTTTCCTGAATCTAATTACTGTCATCGATTGCAAAACTTTGCAAAAAAACATTTGTAGACAACCGCTTACGTGGCGCTTCCTGCATTAAACGATTCCGGTGCACGGAACAA'"
   ]
  },
  {
   "cell_type": "code",
   "execution_count": 21,
   "metadata": {},
   "outputs": [],
   "source": [
    "liste = [ arn[i: i+3] for i in range(0, len(arn),3)]"
   ]
  },
  {
   "cell_type": "code",
   "execution_count": 22,
   "metadata": {},
   "outputs": [],
   "source": [
    "traducteur = triplets_to_amino_acids.copy()"
   ]
  },
  {
   "cell_type": "code",
   "execution_count": 23,
   "metadata": {},
   "outputs": [
    {
     "data": {
      "text/plain": [
       "['Ala',\n",
       " 'Glu',\n",
       " 'STOP',\n",
       " 'Leu',\n",
       " 'Ala',\n",
       " 'Ser',\n",
       " 'Tyr',\n",
       " 'Asp',\n",
       " 'Thr',\n",
       " 'Ile',\n",
       " 'Pro',\n",
       " 'Ala',\n",
       " 'Arg',\n",
       " 'Lys',\n",
       " 'Val',\n",
       " 'Asn',\n",
       " 'Pro',\n",
       " 'Arg',\n",
       " 'Lys',\n",
       " 'Tyr',\n",
       " 'Ile',\n",
       " 'Gly',\n",
       " 'Thr',\n",
       " 'Ser',\n",
       " 'Arg',\n",
       " 'STOP',\n",
       " 'Glu',\n",
       " 'Thr',\n",
       " 'Ala',\n",
       " 'Gly',\n",
       " 'STOP',\n",
       " 'Phe',\n",
       " 'Leu',\n",
       " 'Ser',\n",
       " 'Leu',\n",
       " 'Cys',\n",
       " 'Val',\n",
       " 'Pro',\n",
       " 'Ser',\n",
       " 'Tyr',\n",
       " 'Thr',\n",
       " 'Arg',\n",
       " 'Arg',\n",
       " 'Val',\n",
       " 'His',\n",
       " 'STOP',\n",
       " 'Val',\n",
       " 'Lys',\n",
       " 'Arg',\n",
       " 'Val',\n",
       " 'Ser',\n",
       " 'His',\n",
       " 'Arg',\n",
       " 'Arg',\n",
       " 'Arg',\n",
       " 'STOP',\n",
       " 'Pro',\n",
       " 'Pro',\n",
       " 'Leu',\n",
       " 'Val',\n",
       " 'Val',\n",
       " 'Ser',\n",
       " 'Asn',\n",
       " 'Leu',\n",
       " 'Ser',\n",
       " 'STOP',\n",
       " 'Ile',\n",
       " 'STOP',\n",
       " 'Leu',\n",
       " 'Leu',\n",
       " 'Ser',\n",
       " 'Ser',\n",
       " 'Ile',\n",
       " 'Ala',\n",
       " 'Lys',\n",
       " 'Leu',\n",
       " 'Cys',\n",
       " 'Lys',\n",
       " 'Lys',\n",
       " 'Thr',\n",
       " 'Phe',\n",
       " 'Val',\n",
       " 'Asp',\n",
       " 'Asn',\n",
       " 'Arg',\n",
       " 'Leu',\n",
       " 'Arg',\n",
       " 'Gly',\n",
       " 'Ala',\n",
       " 'Ser',\n",
       " 'Cys',\n",
       " 'Ile',\n",
       " 'Lys',\n",
       " 'Arg',\n",
       " 'Phe',\n",
       " 'Arg',\n",
       " 'Cys',\n",
       " 'Thr',\n",
       " 'Glu',\n",
       " 'Gln']"
      ]
     },
     "execution_count": 23,
     "metadata": {},
     "output_type": "execute_result"
    }
   ],
   "source": [
    "\"-\".join([traducteur[triplet] for triplet in liste])"
   ]
  },
  {
   "cell_type": "code",
   "execution_count": null,
   "metadata": {},
   "outputs": [],
   "source": []
  }
 ],
 "metadata": {
  "kernelspec": {
   "display_name": "Python 3",
   "language": "python",
   "name": "python3"
  },
  "language_info": {
   "codemirror_mode": {
    "name": "ipython",
    "version": 3
   },
   "file_extension": ".py",
   "mimetype": "text/x-python",
   "name": "python",
   "nbconvert_exporter": "python",
   "pygments_lexer": "ipython3",
   "version": "3.8.3"
  }
 },
 "nbformat": 4,
 "nbformat_minor": 4
}
